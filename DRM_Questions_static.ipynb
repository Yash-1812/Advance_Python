{
 "cells": [
  {
   "cell_type": "code",
   "execution_count": null,
   "metadata": {
    "colab": {
     "base_uri": "https://localhost:8080/",
     "height": 108
    },
    "id": "R_VsYQJ3Nngm",
    "outputId": "5b1fdcf4-93bd-458f-8d5c-34f8fb939ae2"
   },
   "outputs": [],
   "source": [
    "from google.colab import files\n",
    "import zipfile\n",
    "import os\n",
    "\n",
    "# Create directories\n",
    "os.makedirs(\"data/previous_papers\", exist_ok=True)\n",
    "os.makedirs(\"data/extracted_texts\", exist_ok=True)\n",
    "\n",
    "print(\" Upload your ZIP containing PDF papers\")\n",
    "uploaded = files.upload()\n",
    "\n",
    "# Extract ZIP\n",
    "for filename in uploaded.keys():\n",
    "    if filename.endswith(\".zip\"):\n",
    "        with zipfile.ZipFile(filename, 'r') as zip_ref:\n",
    "            zip_ref.extractall(\"data/previous_papers\")\n",
    "        print(f\"Extracted {filename} to data/previous_papers/\")\n"
   ]
  },
  {
   "cell_type": "code",
   "execution_count": null,
   "metadata": {
    "id": "t57DsCLwSJta"
   },
   "outputs": [],
   "source": [
    "! pip install -q pytesseract pdf2image pillow tqdm"
   ]
  },
  {
   "cell_type": "code",
   "execution_count": null,
   "metadata": {
    "colab": {
     "base_uri": "https://localhost:8080/",
     "height": 73
    },
    "id": "TF6dbm3hjXsj",
    "outputId": "7a4aa338-c2b8-430e-9da4-6cddcaecd28c"
   },
   "outputs": [],
   "source": [
    "from google.colab import files\n",
    "uploaded = files.upload()"
   ]
  },
  {
   "cell_type": "code",
   "execution_count": null,
   "metadata": {
    "colab": {
     "base_uri": "https://localhost:8080/"
    },
    "id": "H9T3djN6i_v5",
    "outputId": "80440e11-7a6b-4b45-d993-2b0eeaad24a1"
   },
   "outputs": [],
   "source": [
    "import os\n",
    "\n",
    "zip_path = list(uploaded.keys())[0]  # should be 'DRM_Questions.zip'\n",
    "extract_path = \"data/previous_papers/DRM_Questions\"\n",
    "os.makedirs(extract_path, exist_ok=True)\n",
    "\n",
    "import zipfile\n",
    "with zipfile.ZipFile(zip_path, 'r') as zip_ref:\n",
    "    zip_ref.extractall(extract_path)\n",
    "\n",
    "print(f\"Extracted {zip_path} to {extract_path}\")"
   ]
  },
  {
   "cell_type": "code",
   "execution_count": null,
   "metadata": {
    "colab": {
     "base_uri": "https://localhost:8080/"
    },
    "id": "nnMjixTkkU3F",
    "outputId": "1da77a5e-7018-48d4-81e6-3c67d5c0c816"
   },
   "outputs": [],
   "source": [
    "!apt-get install -y poppler-utils"
   ]
  },
  {
   "cell_type": "code",
   "execution_count": null,
   "metadata": {
    "colab": {
     "base_uri": "https://localhost:8080/"
    },
    "id": "iQ1SerO-j15s",
    "outputId": "ccc1df6e-b305-4f76-bf0e-a6e25d3bc073"
   },
   "outputs": [],
   "source": [
    "# STEP 1 — Install dependencies\n",
    "!apt-get install -y poppler-utils\n",
    "!pip install pytesseract pdf2image Pillow tqdm\n",
    "\n",
    "# STEP 2 — Imports\n",
    "import os\n",
    "import pytesseract\n",
    "from pdf2image import convert_from_path\n",
    "from PIL import Image\n",
    "from tqdm import tqdm\n",
    "\n",
    "# STEP 3 — Paths\n",
    "pdf_folder = \"data/previous_papers/DRM_Questions\"\n",
    "output_folder = \"data/extracted_texts\"\n",
    "os.makedirs(output_folder, exist_ok=True)\n",
    "\n",
    "combined_text_path = os.path.join(output_folder, \"all_papers.txt\")\n",
    "\n",
    "# STEP 4 — OCR Extraction\n",
    "all_text = \"\"\n",
    "pdf_files = [f for f in os.listdir(pdf_folder) if f.endswith(\".pdf\")]\n",
    "\n",
    "for pdf_file in tqdm(pdf_files, desc=\"Processing PDFs\"):\n",
    "    pdf_path = os.path.join(pdf_folder, pdf_file)\n",
    "    images = convert_from_path(pdf_path, dpi=300)\n",
    "    file_text = \"\"\n",
    "\n",
    "    for img in images:\n",
    "        text = pytesseract.image_to_string(img)\n",
    "        file_text += text + \"\\n\"\n",
    "\n",
    "    all_text += f\"\\n--- {pdf_file} ---\\n{file_text}\"\n",
    "    print(f\"Extracted text from {pdf_file}\")\n",
    "\n",
    "with open(combined_text_path, \"w\", encoding=\"utf-8\") as f:\n",
    "    f.write(all_text)\n",
    "\n",
    "print(f\"\\nOCR extraction complete! Combined text saved at: {combined_text_path}\")\n"
   ]
  },
  {
   "cell_type": "code",
   "execution_count": null,
   "metadata": {
    "colab": {
     "base_uri": "https://localhost:8080/"
    },
    "id": "U8TgaGKfkBoF",
    "outputId": "d2497ff2-ea77-4e8d-ae3f-2dc57cfa1e4b"
   },
   "outputs": [],
   "source": [
    "combined_text_path = \"data/extracted_texts/all_papers.txt\"\n",
    "\n",
    "with open(combined_text_path, \"r\", encoding=\"utf-8\") as f:\n",
    "    text = f.read()\n",
    "\n",
    "print(f\"Total characters in OCR text: {len(text)}\")\n",
    "print(\"\\nPreview (first 1000 characters):\\n\")\n",
    "print(text[:1000])"
   ]
  },
  {
   "cell_type": "code",
   "execution_count": null,
   "metadata": {
    "colab": {
     "base_uri": "https://localhost:8080/"
    },
    "id": "hasbGlO0lvPp",
    "outputId": "841f42d1-49ab-4584-e052-973a7a05b6b6"
   },
   "outputs": [],
   "source": [
    "import re\n",
    "\n",
    "def extract_questions(text):\n",
    "    # Normalize spaces and line breaks\n",
    "    text = re.sub(r'\\s+', ' ', text)\n",
    "\n",
    "    # Split text using question patterns\n",
    "    raw_questions = re.split(r'(?:(?:Q\\d+)|(?:\\d+\\.\\s)|(?:\\?))', text)\n",
    "\n",
    "    # Clean and filter\n",
    "    questions = [q.strip() for q in raw_questions if len(q.strip()) > 15]\n",
    "    return questions\n",
    "\n",
    "questions = extract_questions(text)\n",
    "print(f\"Total questions extracted: {len(questions)}\")\n",
    "print(\"\\nSample questions:\\n\")\n",
    "for q in questions[:5]:\n",
    "    print(\"-\", q[:150], \"...\\n\")"
   ]
  },
  {
   "cell_type": "code",
   "execution_count": null,
   "metadata": {
    "colab": {
     "base_uri": "https://localhost:8080/",
     "height": 1000,
     "referenced_widgets": [
      "a5685d32e3204b5f93169b7166dc34cb",
      "1aeeab2feeb447d3a3fd6847463acf44",
      "694b2bb381e24d3f9f7d1dbb19b8be98",
      "854632c6991f4c6b93ab63881aab0cc3",
      "ba9a901ccb2c41e5beb5568def079e93",
      "c0bb57bfb78e46fabb0f841d4a03d59d",
      "71b7f8fd11a84eb1ab41b6bffb6372f9",
      "6c5d65ae870b4dd2bc2755442be2a859",
      "ef256b686be046a2a11e22ee0bcee154",
      "ac02af1982c14e7c9ad5dd5957b89851",
      "ea9df96c5d084c46a5c98fb733ccea1d",
      "0e8cdd64b7994f98a8519e1e7809b8cd",
      "96eccef5026a460f8227ff197742bd80",
      "b1c1b173e89e4868b98483b68d98fc03",
      "32ef7b4bcac94189af51150bba59dfd7",
      "a95d3e2ecd4e47498b9e7bd4351d1b69",
      "e7d3c395e8ae4868b9d67354984694b8",
      "b436df7563264b50afca97e9c5f58ef3",
      "4227a96821d34db49aa824e95085bf4e",
      "d2b270ce4ca643bab317fc79b21dbb70",
      "48fd488feaaa4ee4a90c61f575883ca6",
      "6042aff364ea47bc8b7c222fc455f6bc",
      "0d6ec558d8c94621b7a8a344b290eefb",
      "2c74133d30c14a03a2f3c3bc603ea04d",
      "cb58bc0e807842f0a23df4fc116f90e1",
      "cd1781d4483e4a85bbe02166fa36961a",
      "a2031796faef4f86a349b5fe6dc36057",
      "84499114192044e4842bd5698aaeb0e3",
      "c82c86f38c2147509009f187909dcd97",
      "31339fa14e3f471d89733c857677d928",
      "b6f6d30f577148a4a92f22941606b827",
      "7639f4a58f7a444184661475d86e92b5",
      "ab9030164ffc48ac89e87b3d03ec54f1",
      "422bb348b18f4505a61046b62b97c50f",
      "aaff5140da0347b38f328e64512a7816",
      "e3c79a1ac8d948418fe4726ee3fadbc8",
      "f37fa27f12c44522a6872b690e3ac219",
      "2ae945ff3643464fa23ce0e70e536b77",
      "9187999bf903436db526b4862f05836b",
      "766d5c49cd1a4749ad5150d6f2515769",
      "9548ac655cb742a48ef1f47e4528ff2a",
      "3270019d6b5644eb910fe4a4fad0302e",
      "eb27fa509bf940b58f16c5914735196c",
      "1c88d16c6a6b43a7af78087f52b717be",
      "317b66691d314410ba73bea6b9485a1e",
      "896a135b553e401cae329d9aeee0c3b9",
      "bb30b6b5d48b4f909d2efe7c26d3faa5",
      "42aa29e7176544d58155189b92aca831",
      "9e600e65c3ca45838e303e09e8a38ec6",
      "22562bb13f3d4cffb054ddfb6dc4b14e",
      "5f01c0c832b04287b78946cc4965ae21",
      "57fad6a4750c4685a7d332e56b2a5cd9",
      "6775c687182c4533a48166661f36e172",
      "e5d1fb0197664954a9bfca4a6a7c4da2",
      "1b39a6382bf84a89a393d678f6bfa4fe",
      "7dba3da238784daabdf10361d5a4a0fa",
      "7755474e821b43a48295437f881bdb8a",
      "9f7683f11a6b4db59cf5198c1c2f6cc8",
      "1c67e53d443b483881894ac3640643e3",
      "b6d84b42e47e49839d61fd467b8cdf00",
      "d310e62b35fd47e990425993752e79f4",
      "9dfe9d5b5adc42ca8b3b6fe49831f1e2",
      "c589c696c3424482bad32b576f36b527",
      "894e612b5e3a4a1ea2d7604b57d7d3b1",
      "b65c57f2ad39481db685ea70bc82b833",
      "8289a31ef4564d93bdce7993f9f6fd95",
      "63e7f9efdbcb45fabdfec86a3d4e3b42",
      "33674ae35542435fbe31dd902412cd79",
      "db3c621dfe9f4d06a62a33c5d3675a6c",
      "fdf4051da341433a9473a1662f07af5f",
      "5cb5fa3d71734f6582f2af8b4ca4cfe5",
      "872350d3c44745009b37ef30159da4e8",
      "7ca303cd90a745dea7fef198fb705c69",
      "9809c09b4bbb4aafac05d2be3edf7dde",
      "d8fff2f33bea4269bc8f35c81d98d392",
      "8f9647010ba64cc393355c3bd6c07af7",
      "90affa20a9394fc38c3d365ba9d50d1c",
      "16bef522d88d4aaa9009ced9de9aad12",
      "83d069d06d0543959223f5f06869b0ff",
      "4581a0488ab3499a85fd76d353f41117",
      "c0bb8c232d144954a741dae246d5d732",
      "cabb4328dbd548f38e423c4a36c76b78",
      "2efa3bd031bb408b9f3135aaf4ee3e1f",
      "da9150e0f921438b9242dbdcc376ea80",
      "40283a183cca49968a52062ab3813180",
      "ff5b7b9bf175409592d2767037f68633",
      "61b501cbfa724fe0aab8191c01480581",
      "d3509623e5384236ae58326f8c877dfb",
      "b1fbc872eb564252a7720ce385da755e",
      "54dfe75593094ba0b653a117d69039d6",
      "5c9cf0a9eca14bd9b8dc7d8e122b3973",
      "01f35e05daf344deae9531d2dc4cf2ce",
      "289b721145dc43ceb0a1f6a259d17fcd",
      "efe8133e01d24d26a13814ec2eeff246",
      "350694062b0b43b685111e5e7c06450e",
      "984ca8f8ee4f40b69832d70fe3f3b0c8",
      "fa76f20b3e1d4b8586c4f380058b0aeb",
      "8dc22f7029af47b8b916ee7fef878801",
      "f36e0f34006d4b5ca6f8ea233255f06d",
      "08b2c706f2b849f3b0763a23fd01a971",
      "a3e9192ffe8446f8a88e6527b29f41c9",
      "67130cb6aedc4dd3acf022798c52e1cf",
      "b8391f8ecab741eb80e9dd40bfe691b0",
      "c21e4111c5ff4bfb9555379f0c372d87",
      "2b75a9ed2eea4c99b1f7672116a36ce9",
      "0b90db2a29fa4cc9b80e8d96bb153880",
      "d4cc6526e0d640df86f5bbd118220f71",
      "bb7c6a4e8e8d4133b03114afc05f8714",
      "033b8e3450494b02b3fd556563c1a63d",
      "e79bc8292298486389a413533c964ce4",
      "5455e63d408f433d83a77e333c5ab03f",
      "d64211b5c3b44c749f59aed6019457f6",
      "00f21a00d4914dbe8ddbcb89696486c3",
      "7b96d9819095456cbcb1c76883ba38a2",
      "4203135e4d324b9c84c31452cc81a253",
      "0a7aa36b5c01427790a3d738642ac716",
      "364ed574012140dd9026c188b787a980",
      "0b4de74fd8804b5cb2726492f2cb637e",
      "8dbf28a231944b508f28f604729db8e6",
      "ee18830a283e42a89f4daa66d7be4e25",
      "06c06c3bc7394467931ed856b801d6fb"
     ]
    },
    "id": "XhQvXk7Hl6zz",
    "outputId": "37a7f321-77e1-47b7-b123-b3c4473ad165"
   },
   "outputs": [],
   "source": [
    "!pip install sentence-transformers faiss-cpu\n",
    "\n",
    "from sentence_transformers import SentenceTransformer\n",
    "import faiss\n",
    "import numpy as np\n",
    "\n",
    "embedder = SentenceTransformer(\"all-MiniLM-L6-v2\")\n",
    "\n",
    "# Create embeddings for all questions\n",
    "question_embeddings = embedder.encode(questions, convert_to_numpy=True)\n",
    "\n",
    "# Build FAISS index\n",
    "index = faiss.IndexFlatL2(question_embeddings.shape[1])\n",
    "index.add(np.array(question_embeddings))\n",
    "print(f\"FAISS index built with {len(questions)} questions.\")"
   ]
  },
  {
   "cell_type": "code",
   "execution_count": null,
   "metadata": {
    "colab": {
     "base_uri": "https://localhost:8080/"
    },
    "id": "zYSl_bromEqG",
    "outputId": "55a713f7-5682-4289-eea5-f9f10455be3b"
   },
   "outputs": [],
   "source": [
    "def search_questions(query, top_k=5):\n",
    "    query_vec = embedder.encode([query], convert_to_numpy=True)\n",
    "    distances, indices = index.search(query_vec, top_k)\n",
    "    print(f\"Top {top_k} results for: '{query}'\\n\")\n",
    "    for idx, dist in zip(indices[0], distances[0]):\n",
    "        print(f\"- {questions[idx][:]}...\\n\")\n",
    "\n",
    "# Example query\n",
    "search_questions(\"future's contract\")"
   ]
  },
  {
   "cell_type": "code",
   "execution_count": null,
   "metadata": {
    "id": "HrJZhH-bmXnr"
   },
   "outputs": [],
   "source": []
  }
 ],
 "metadata": {
  "colab": {
   "provenance": []
  },
  "kernelspec": {
   "display_name": "Python 3",
   "name": "python3"
  },
  "language_info": {
   "name": "python"
  }
 },
 "nbformat": 4,
 "nbformat_minor": 0
}
